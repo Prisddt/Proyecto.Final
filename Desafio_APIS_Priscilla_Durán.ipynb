{
 "cells": [
  {
   "cell_type": "markdown",
   "id": "8ad4485d",
   "metadata": {},
   "source": [
    "## APIs de Indicadores Económicos Diarios"
   ]
  },
  {
   "cell_type": "raw",
   "id": "4132c4c8",
   "metadata": {},
   "source": [
    "Este es un servicio que entrega los principales indicadores económicos para Chile en formato JSON. La aplicación mapea constantemente el sitio del Banco Central de Chile dando a conocer los indicadores diarios como históricos. \n",
    "\n",
    "API proporciona los datos de los siguientes indicadores económicos:\n",
    "[uf, ivp, dolar, dolar_intercambio, euro, ipc, utm, imacec, tpm, libra_cobre, tasa_desempleo, bitcoin]\n",
    "\n",
    "Unidad de fomento (UF):\tValores desde 1977 hasta hoy.\n",
    "Libra de Cobre:\tValores desde 2012 hasta hoy.\n",
    "Tasa de desempleo: Valores desde 2009 hasta hoy.\n",
    "Euro: Valores desde 1999 hasta hoy.\n",
    "Imacec:\tValores desde 1997 hasta hoy.\n",
    "Dólar observado: Valores desde 1984 hasta hoy.\n",
    "Tasa Política Monetaria (TPM): Valores desde 2001 hasta hoy.\n",
    "Indice de valor promedio (IVP):\tValores desde 1990 hasta hoy.\n",
    "Indice de Precios al Consumidor (IPC): Valores desde 1928 hasta hoy.\n",
    "Dólar acuerdo: Valores desde 1988 hasta hoy.\n",
    "Unidad Tributaria Mensual (UTM): Valores desde 1990 hasta hoy.\n",
    "Bitcoin: Valores desde 2009 hasta hoy.\n"
   ]
  },
  {
   "cell_type": "code",
   "execution_count": 12,
   "id": "d23538d6",
   "metadata": {},
   "outputs": [],
   "source": [
    "import json\n",
    "import requests\n",
    "import pandas as pd\n",
    "import os"
   ]
  },
  {
   "cell_type": "code",
   "execution_count": 47,
   "id": "54cb73c9",
   "metadata": {},
   "outputs": [
    {
     "name": "stdout",
     "output_type": "stream",
     "text": [
      "<Response [200]>\n"
     ]
    }
   ],
   "source": [
    "url='https://www.mindicador.cl/api/ipc/2022'\n",
    "df = requests.get(url)\n",
    "print(df)"
   ]
  },
  {
   "cell_type": "code",
   "execution_count": 48,
   "id": "fce4edd0",
   "metadata": {},
   "outputs": [
    {
     "name": "stdout",
     "output_type": "stream",
     "text": [
      "732\n"
     ]
    },
    {
     "data": {
      "text/plain": [
       "'{\"version\":\"1.7.0\",\"autor\":\"mindicador.cl\",\"codigo\":\"ipc\",\"nombre\":\"Indice de Precios al Consumidor (IPC)\",\"unidad_medida\":\"Porcentaje\",\"serie\":[{\"fecha\":\"2022-12-01T03:00:00.000Z\",\"valor\":0.3},{\"fecha\":\"2022-11-01T03:00:00.000Z\",\"valor\":1},{\"fecha\":\"2022-10-01T03:00:00.000Z\",\"valor\":0.5},{\"fecha\":\"2022-09-01T04:00:00.000Z\",\"valor\":0.9},{\"fecha\":\"2022-08-01T04:00:00.000Z\",\"valor\":1.2},{\"fecha\":\"2022-07-01T04:00:00.000Z\",\"valor\":1.4},{\"fecha\":\"2022-06-01T04:00:00.000Z\",\"valor\":0.9},{\"fecha\":\"2022-05-01T04:00:00.000Z\",\"valor\":1.2},{\"fecha\":\"2022-04-01T03:00:00.000Z\",\"valor\":1.4},{\"fecha\":\"2022-03-01T03:00:00.000Z\",\"valor\":1.9},{\"fecha\":\"2022-02-01T03:00:00.000Z\",\"valor\":0.3},{\"fecha\":\"2022-01-01T03:00:00.000Z\",\"valor\":1.2}]}'"
      ]
     },
     "execution_count": 48,
     "metadata": {},
     "output_type": "execute_result"
    }
   ],
   "source": [
    "print(len(df.text))\n",
    "df.text"
   ]
  },
  {
   "cell_type": "code",
   "execution_count": 49,
   "id": "4848f402",
   "metadata": {},
   "outputs": [
    {
     "data": {
      "text/plain": [
       "{'version': '1.7.0',\n",
       " 'autor': 'mindicador.cl',\n",
       " 'codigo': 'ipc',\n",
       " 'nombre': 'Indice de Precios al Consumidor (IPC)',\n",
       " 'unidad_medida': 'Porcentaje',\n",
       " 'serie': [{'fecha': '2022-12-01T03:00:00.000Z', 'valor': 0.3},\n",
       "  {'fecha': '2022-11-01T03:00:00.000Z', 'valor': 1},\n",
       "  {'fecha': '2022-10-01T03:00:00.000Z', 'valor': 0.5},\n",
       "  {'fecha': '2022-09-01T04:00:00.000Z', 'valor': 0.9},\n",
       "  {'fecha': '2022-08-01T04:00:00.000Z', 'valor': 1.2},\n",
       "  {'fecha': '2022-07-01T04:00:00.000Z', 'valor': 1.4},\n",
       "  {'fecha': '2022-06-01T04:00:00.000Z', 'valor': 0.9},\n",
       "  {'fecha': '2022-05-01T04:00:00.000Z', 'valor': 1.2},\n",
       "  {'fecha': '2022-04-01T03:00:00.000Z', 'valor': 1.4},\n",
       "  {'fecha': '2022-03-01T03:00:00.000Z', 'valor': 1.9},\n",
       "  {'fecha': '2022-02-01T03:00:00.000Z', 'valor': 0.3},\n",
       "  {'fecha': '2022-01-01T03:00:00.000Z', 'valor': 1.2}]}"
      ]
     },
     "execution_count": 49,
     "metadata": {},
     "output_type": "execute_result"
    }
   ],
   "source": [
    "#Guardar en texto\n",
    "texto = df.text\n",
    "\n",
    "#leer texto en Json\n",
    "json.loads(texto)"
   ]
  },
  {
   "cell_type": "code",
   "execution_count": 50,
   "id": "80215e91",
   "metadata": {},
   "outputs": [
    {
     "data": {
      "text/html": [
       "<div>\n",
       "<style scoped>\n",
       "    .dataframe tbody tr th:only-of-type {\n",
       "        vertical-align: middle;\n",
       "    }\n",
       "\n",
       "    .dataframe tbody tr th {\n",
       "        vertical-align: top;\n",
       "    }\n",
       "\n",
       "    .dataframe thead th {\n",
       "        text-align: right;\n",
       "    }\n",
       "</style>\n",
       "<table border=\"1\" class=\"dataframe\">\n",
       "  <thead>\n",
       "    <tr style=\"text-align: right;\">\n",
       "      <th></th>\n",
       "      <th>version</th>\n",
       "      <th>autor</th>\n",
       "      <th>codigo</th>\n",
       "      <th>nombre</th>\n",
       "      <th>unidad_medida</th>\n",
       "      <th>serie</th>\n",
       "    </tr>\n",
       "  </thead>\n",
       "  <tbody>\n",
       "    <tr>\n",
       "      <th>0</th>\n",
       "      <td>1.7.0</td>\n",
       "      <td>mindicador.cl</td>\n",
       "      <td>ipc</td>\n",
       "      <td>Indice de Precios al Consumidor (IPC)</td>\n",
       "      <td>Porcentaje</td>\n",
       "      <td>{'fecha': '2022-12-01T03:00:00.000Z', 'valor':...</td>\n",
       "    </tr>\n",
       "    <tr>\n",
       "      <th>1</th>\n",
       "      <td>1.7.0</td>\n",
       "      <td>mindicador.cl</td>\n",
       "      <td>ipc</td>\n",
       "      <td>Indice de Precios al Consumidor (IPC)</td>\n",
       "      <td>Porcentaje</td>\n",
       "      <td>{'fecha': '2022-11-01T03:00:00.000Z', 'valor': 1}</td>\n",
       "    </tr>\n",
       "    <tr>\n",
       "      <th>2</th>\n",
       "      <td>1.7.0</td>\n",
       "      <td>mindicador.cl</td>\n",
       "      <td>ipc</td>\n",
       "      <td>Indice de Precios al Consumidor (IPC)</td>\n",
       "      <td>Porcentaje</td>\n",
       "      <td>{'fecha': '2022-10-01T03:00:00.000Z', 'valor':...</td>\n",
       "    </tr>\n",
       "    <tr>\n",
       "      <th>3</th>\n",
       "      <td>1.7.0</td>\n",
       "      <td>mindicador.cl</td>\n",
       "      <td>ipc</td>\n",
       "      <td>Indice de Precios al Consumidor (IPC)</td>\n",
       "      <td>Porcentaje</td>\n",
       "      <td>{'fecha': '2022-09-01T04:00:00.000Z', 'valor':...</td>\n",
       "    </tr>\n",
       "    <tr>\n",
       "      <th>4</th>\n",
       "      <td>1.7.0</td>\n",
       "      <td>mindicador.cl</td>\n",
       "      <td>ipc</td>\n",
       "      <td>Indice de Precios al Consumidor (IPC)</td>\n",
       "      <td>Porcentaje</td>\n",
       "      <td>{'fecha': '2022-08-01T04:00:00.000Z', 'valor':...</td>\n",
       "    </tr>\n",
       "  </tbody>\n",
       "</table>\n",
       "</div>"
      ],
      "text/plain": [
       "  version          autor codigo                                 nombre  \\\n",
       "0   1.7.0  mindicador.cl    ipc  Indice de Precios al Consumidor (IPC)   \n",
       "1   1.7.0  mindicador.cl    ipc  Indice de Precios al Consumidor (IPC)   \n",
       "2   1.7.0  mindicador.cl    ipc  Indice de Precios al Consumidor (IPC)   \n",
       "3   1.7.0  mindicador.cl    ipc  Indice de Precios al Consumidor (IPC)   \n",
       "4   1.7.0  mindicador.cl    ipc  Indice de Precios al Consumidor (IPC)   \n",
       "\n",
       "  unidad_medida                                              serie  \n",
       "0    Porcentaje  {'fecha': '2022-12-01T03:00:00.000Z', 'valor':...  \n",
       "1    Porcentaje  {'fecha': '2022-11-01T03:00:00.000Z', 'valor': 1}  \n",
       "2    Porcentaje  {'fecha': '2022-10-01T03:00:00.000Z', 'valor':...  \n",
       "3    Porcentaje  {'fecha': '2022-09-01T04:00:00.000Z', 'valor':...  \n",
       "4    Porcentaje  {'fecha': '2022-08-01T04:00:00.000Z', 'valor':...  "
      ]
     },
     "execution_count": 50,
     "metadata": {},
     "output_type": "execute_result"
    }
   ],
   "source": [
    "#convertir a dataframe\n",
    "jsondata = json.loads(texto)\n",
    "df2 = pd.DataFrame.from_dict(jsondata)\n",
    "df2.head()"
   ]
  },
  {
   "cell_type": "code",
   "execution_count": 51,
   "id": "77a4123d",
   "metadata": {},
   "outputs": [
    {
     "name": "stdout",
     "output_type": "stream",
     "text": [
      "<Response [200]>\n"
     ]
    }
   ],
   "source": [
    "#Otra busqueda\n",
    "url='https://www.mindicador.cl/api/dolar/04-10-2023'\n",
    "df = requests.get(url)\n",
    "print(df)"
   ]
  },
  {
   "cell_type": "code",
   "execution_count": 52,
   "id": "67d70706",
   "metadata": {},
   "outputs": [
    {
     "name": "stdout",
     "output_type": "stream",
     "text": [
      "172\n"
     ]
    },
    {
     "data": {
      "text/plain": [
       "'{\"version\":\"1.7.0\",\"autor\":\"mindicador.cl\",\"codigo\":\"dolar\",\"nombre\":\"Dólar observado\",\"unidad_medida\":\"Pesos\",\"serie\":[{\"fecha\":\"2023-10-04T03:00:00.000Z\",\"valor\":914.3}]}'"
      ]
     },
     "execution_count": 52,
     "metadata": {},
     "output_type": "execute_result"
    }
   ],
   "source": [
    "print(len(df.text))\n",
    "df.text"
   ]
  },
  {
   "cell_type": "code",
   "execution_count": 53,
   "id": "f4d77afa",
   "metadata": {},
   "outputs": [],
   "source": [
    "#Guardar en texto\n",
    "texto = df.text\n",
    "\n",
    "#leer texto en Json\n",
    "json.loads(texto)\n",
    "jsondata = json.loads(texto)"
   ]
  },
  {
   "cell_type": "code",
   "execution_count": 54,
   "id": "87716570",
   "metadata": {},
   "outputs": [
    {
     "data": {
      "text/html": [
       "<div>\n",
       "<style scoped>\n",
       "    .dataframe tbody tr th:only-of-type {\n",
       "        vertical-align: middle;\n",
       "    }\n",
       "\n",
       "    .dataframe tbody tr th {\n",
       "        vertical-align: top;\n",
       "    }\n",
       "\n",
       "    .dataframe thead th {\n",
       "        text-align: right;\n",
       "    }\n",
       "</style>\n",
       "<table border=\"1\" class=\"dataframe\">\n",
       "  <thead>\n",
       "    <tr style=\"text-align: right;\">\n",
       "      <th></th>\n",
       "      <th>version</th>\n",
       "      <th>autor</th>\n",
       "      <th>codigo</th>\n",
       "      <th>nombre</th>\n",
       "      <th>unidad_medida</th>\n",
       "      <th>serie</th>\n",
       "    </tr>\n",
       "  </thead>\n",
       "  <tbody>\n",
       "    <tr>\n",
       "      <th>0</th>\n",
       "      <td>1.7.0</td>\n",
       "      <td>mindicador.cl</td>\n",
       "      <td>dolar</td>\n",
       "      <td>Dólar observado</td>\n",
       "      <td>Pesos</td>\n",
       "      <td>[{'fecha': '2023-10-04T03:00:00.000Z', 'valor'...</td>\n",
       "    </tr>\n",
       "  </tbody>\n",
       "</table>\n",
       "</div>"
      ],
      "text/plain": [
       "  version          autor codigo           nombre unidad_medida  \\\n",
       "0   1.7.0  mindicador.cl  dolar  Dólar observado         Pesos   \n",
       "\n",
       "                                               serie  \n",
       "0  [{'fecha': '2023-10-04T03:00:00.000Z', 'valor'...  "
      ]
     },
     "execution_count": 54,
     "metadata": {},
     "output_type": "execute_result"
    }
   ],
   "source": [
    "#convertir a dataframe\n",
    "\n",
    "df3 = pd.DataFrame([jsondata])\n",
    "df3.head()"
   ]
  }
 ],
 "metadata": {
  "kernelspec": {
   "display_name": "Python 3 (ipykernel)",
   "language": "python",
   "name": "python3"
  },
  "language_info": {
   "codemirror_mode": {
    "name": "ipython",
    "version": 3
   },
   "file_extension": ".py",
   "mimetype": "text/x-python",
   "name": "python",
   "nbconvert_exporter": "python",
   "pygments_lexer": "ipython3",
   "version": "3.11.4"
  }
 },
 "nbformat": 4,
 "nbformat_minor": 5
}
